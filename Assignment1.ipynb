{
 "cells": [
  {
   "cell_type": "markdown",
   "metadata": {},
   "source": [
    "#### CSCE 670 :: Information Storage and Retrieval :: Texas A&M University :: Spring 2018\n",
    "\n",
    "\n",
    "# Homework 0: Let's get it started\n",
    "\n",
    "- **100 points [2% of your final grade]**\n",
    "- **Due Tuesday, January 23 by 11:59pm**\n",
    "\n",
    "*Goals of this homework:* The objective of this homework is to prepare your development environment, get familiar with iPython in a Jupyter notebook, and then do some beginning exercises.\n",
    "\n",
    "*Submission instructions:* You should post your notebook to ecampus (look for the homework 0 assignment there). Please name your submission **your-uin_hw0.ipynb**, so for example, my submission would be something like **555001234_hw0.ipynb**. Your notebook should be fully executed when you submit ... so run all the cells for us so we can see the output, then submit that. "
   ]
  },
  {
   "cell_type": "markdown",
   "metadata": {},
   "source": [
    "## iPython, Python, and our Expectations\n",
    "\n",
    "This homework, all subsequent homeworks, and your project will use iPython in a Jupyter notebook. iPython is just an interactive shell for programming in the Python language. A few years ago, the developers created a generic interactive shell called Jupyter that supports languages beyond just Python. This can be a bit confusing, and we'll add a bit to the confusion by referring to iPython and Jupyter interchangeably in this course.\n",
    "\n",
    "With respect to Python, we do not expect you to have any prior experience. We do, however, expect you to have proficiency in some programming language (so you've seen loops, conditionals, functions, etc.) and a willingness to experiment and learn on your own. Python is a fun language and you should be able to pick up the necessary portions as we move along; however, this may require you to spend some extra cycles consulting online documentation, referring to a Python book, or scouring over StackOverflow. \n",
    "\n",
    "A few basic Python pointers:\n",
    "* http://introtopython.org\n",
    "* http://ricardoduarte.github.io/python-for-developers/\n",
    "* http://mbakker7.github.io/exploratory_computing_with_python/ [particularly the basic Python language ones]\n",
    "\n",
    "We expect your code to be well-documented with appropriate comments. We prefer meaningful variable names and function names. We also expect your code to be compact and sensible -- no super-long lines, nor dense unintelligible lines of code.\n",
    "\n",
    "In general, Python code is often run from standalone Python modules or files; for this class, we will often run Python from here within the iPython notebook.\n",
    "\n",
    "Now that you're ready, let's take a look at this iPython notebook. You'll notice that it is composed of cells. Some cells have text (like this one), while others contain code and comments. This cell is written in **Markdown** a simple text-to-HTML language. You can find a cheat sheet for Markdown here: https://github.com/adam-p/markdown-here/wiki/Markdown-Cheatsheet. You can toggle a cell between Markdown and code with the toggle button up there on the menu bar.\n",
    "\n",
    "The cell below contains code and can be **executed** by hitting the **Play** button on the menu bar or by hitting **shift + enter**."
   ]
  },
  {
   "cell_type": "code",
   "execution_count": 25,
   "metadata": {},
   "outputs": [
    {
     "name": "stdout",
     "output_type": "stream",
     "text": [
      "Hello world!\n"
     ]
    }
   ],
   "source": [
    "# this is a comment\n",
    "# you can execute this cell by hitting shift+enter\n",
    "# the output will appear immediately below\n",
    "print 'Hello world!'"
   ]
  },
  {
   "cell_type": "markdown",
   "metadata": {},
   "source": [
    "Since iPython is just an interactive shell around Python, you can define functions. For example:"
   ]
  },
  {
   "cell_type": "code",
   "execution_count": 26,
   "metadata": {},
   "outputs": [
    {
     "data": {
      "text/plain": [
       "27"
      ]
     },
     "execution_count": 26,
     "metadata": {},
     "output_type": "execute_result"
    }
   ],
   "source": [
    "def cubed(x):\n",
    "    \"\"\" Return the cube of a  \n",
    "        value \"\"\"\n",
    "    return x ** 3\n",
    "\n",
    "cubed(3)"
   ]
  },
  {
   "cell_type": "markdown",
   "metadata": {},
   "source": [
    "You can even access the filesystem with commands like `ls` or `pwd`:"
   ]
  },
  {
   "cell_type": "code",
   "execution_count": 27,
   "metadata": {},
   "outputs": [
    {
     "name": "stderr",
     "output_type": "stream",
     "text": [
      "'pwd' is not recognized as an internal or external command,\n",
      "operable program or batch file.\n",
      "'ls' is not recognized as an internal or external command,\n",
      "operable program or batch file.\n"
     ]
    }
   ],
   "source": [
    "!pwd\n",
    "!ls"
   ]
  },
  {
   "cell_type": "markdown",
   "metadata": {},
   "source": [
    "## Getting Started with Numpy and matplotlib\n",
    "\n",
    "In this part, we're going to get familiar with two important libraries -- Numpy and matplotlib.\n",
    "\n",
    "### Into to Numpy\n",
    "Since Python is an interpreted language, it might not seem like the best choice for data-intensive work. Luckily, almost all of our data workflow stack is built on top of Numpy, a Python library that adds support for large, multi-dimensional arrays and matrices, along with a large library of high-level mathematical functions to operate on these arrays."
   ]
  },
  {
   "cell_type": "code",
   "execution_count": 28,
   "metadata": {},
   "outputs": [
    {
     "name": "stdout",
     "output_type": "stream",
     "text": [
      "Make a 4 row x 2 column matrix of random numbers\n",
      "[[ 0.40819732  0.13074937]\n",
      " [ 0.7468476   0.18967787]\n",
      " [ 0.88045875  0.93356929]\n",
      " [ 0.31779507  0.14883072]]\n",
      "\n",
      "Add 10 to every element\n",
      "[[ 10.40819732  10.13074937]\n",
      " [ 10.7468476   10.18967787]\n",
      " [ 10.88045875  10.93356929]\n",
      " [ 10.31779507  10.14883072]]\n",
      "\n",
      "Get the element at row 3, column 1\n",
      "10.148830716\n",
      "\n",
      "Get the first row\n",
      "[ 10.40819732  10.13074937]\n",
      "\n",
      "Get the first two rows\n",
      "[[ 10.40819732  10.13074937]\n",
      " [ 10.7468476   10.18967787]]\n",
      "\n"
     ]
    }
   ],
   "source": [
    "import numpy as np\n",
    "\n",
    "print \"Make a 4 row x 2 column matrix of random numbers\"\n",
    "x = np.random.random((4, 2))\n",
    "print x\n",
    "print\n",
    "\n",
    "print \"Add 10 to every element\"\n",
    "x = x + 10\n",
    "print x\n",
    "print\n",
    "\n",
    "print \"Get the element at row 3, column 1\"\n",
    "print x[3, 1]\n",
    "print\n",
    "\n",
    "print \"Get the first row\"\n",
    "print x[0, :]\n",
    "print\n",
    "\n",
    "print \"Get the first two rows\"\n",
    "print x[:2]\n",
    "print "
   ]
  },
  {
   "cell_type": "markdown",
   "metadata": {},
   "source": [
    "Now, it's your turn. Find the maximum, minimum, and mean of the array. This does not require writing a loop. In the code cell below, type `x.m<TAB>`, to find built-in operations that may help you out."
   ]
  },
  {
   "cell_type": "code",
   "execution_count": 29,
   "metadata": {},
   "outputs": [
    {
     "name": "stdout",
     "output_type": "stream",
     "text": [
      "10.4695157471\n",
      "10.9335692852\n",
      "10.1307493743\n"
     ]
    }
   ],
   "source": [
    "#mean\n",
    "print x.mean()\n",
    "#max\n",
    "print x.max()\n",
    "#min\n",
    "print x.min()\n"
   ]
  },
  {
   "cell_type": "markdown",
   "metadata": {},
   "source": [
    "That wasy easy! Now, let's see if you can generate 500 numbers from a uniform distribution between 0 and 10,000, inclusive. That is each random number could be 0, 1, 2, ..., 10,000 with equal chance. What is the maximum, minimum, and mean of these 500 random numbers? *Hint: take a look at np.random* "
   ]
  },
  {
   "cell_type": "code",
   "execution_count": 30,
   "metadata": {},
   "outputs": [
    {
     "name": "stdout",
     "output_type": "stream",
     "text": [
      "9992.94912382\n",
      "15.5473918589\n",
      "4785.15328863\n"
     ]
    }
   ],
   "source": [
    "s = np.random.uniform(0,10001,500)\n",
    "print s.max()\n",
    "print s.min()\n",
    "print s.mean()"
   ]
  },
  {
   "cell_type": "markdown",
   "metadata": {},
   "source": [
    "### Intro to matplotlib\n",
    "The most widespread Python plotting library is matplotlib. With it, you can create graphs, charts, basic maps, and other data visualizations. Later in the semester, we'll use `seaborn`, a library built on top of matplotlib that provides even more beautiful charts.\n",
    "\n",
    "Below, we provide some simple x and y coordinates that are then plotted. You should update the plot to include:\n",
    "* a label for the x-axis (call it 'X-axis')\n",
    "* a label for the y-axis (call it 'Y-axis')\n",
    "* a label for the x, y1 curve (call it 'Alice')\n",
    "* a label for the x, y2 curve (call it 'Bob')\n",
    "* a legend in the lower right corner"
   ]
  },
  {
   "cell_type": "code",
   "execution_count": 31,
   "metadata": {},
   "outputs": [
    {
     "data": {
      "image/png": "[encoded data removed]",
      "text/plain": [
       "<matplotlib.figure.Figure at 0x8c44da0>"
      ]
     },
     "metadata": {},
     "output_type": "display_data"
    }
   ],
   "source": [
    "%matplotlib inline  \n",
    "\n",
    "import matplotlib.pyplot as plt  \n",
    "\n",
    "x = [0, 1, 2, 3, 4]  \n",
    "y1 = [10, 12, 10, 10, 12]\n",
    "y2 = [8, 9, 9, 11, 12]\n",
    "plt.plot(x, y1,label=\"Alice\")\n",
    "plt.plot(x, y2,label=\"Bob\") \n",
    "plt.xlabel('X-axis')\n",
    "plt.ylabel('Y-axis')\n",
    "plt.legend( loc='lower right')\n",
    "plt.show()"
   ]
  },
  {
   "cell_type": "markdown",
   "metadata": {},
   "source": [
    "## Python Data Structures\n",
    "Here we introduce some of the popular built-in data structures in Python: list, set and dictionary.\n",
    "#### List"
   ]
  },
  {
   "cell_type": "code",
   "execution_count": 32,
   "metadata": {},
   "outputs": [
    {
     "name": "stdout",
     "output_type": "stream",
     "text": [
      "Add item 7 to the list\n",
      "[1, 5, 6, 3, 4, 0, 7]\n",
      "\n",
      "Remove item 4 from the list\n",
      "[1, 5, 6, 3, 0, 7]\n",
      "\n",
      "Insert item 3 at a position 2\n",
      "[1, 5, 3, 6, 3, 0, 7]\n",
      "\n"
     ]
    }
   ],
   "source": [
    "x=[1, 5, 6, 3, 4, 0]\n",
    "print 'Add item 7 to the list'\n",
    "x.append(7)\n",
    "print x\n",
    "print\n",
    "\n",
    "print 'Remove item 4 from the list'\n",
    "x.remove(4)\n",
    "print x\n",
    "print \n",
    "\n",
    "print 'Insert item 3 at a position 2'\n",
    "x.insert(2,3)\n",
    "print x\n",
    "print"
   ]
  },
  {
   "cell_type": "markdown",
   "metadata": {},
   "source": [
    "Now, it's your turn. Sort the list and then reverse the list. In the code cell below, type x.<TAB>, to find built-in operations that may help you out."
   ]
  },
  {
   "cell_type": "code",
   "execution_count": 33,
   "metadata": {},
   "outputs": [
    {
     "data": {
      "text/plain": [
       "[7, 6, 5, 3, 3, 1, 0]"
      ]
     },
     "execution_count": 33,
     "metadata": {},
     "output_type": "execute_result"
    }
   ],
   "source": [
    "#sort\n",
    "x.sort()\n",
    "#reverse\n",
    "x.reverse()\n",
    "x"
   ]
  },
  {
   "cell_type": "markdown",
   "metadata": {},
   "source": [
    "#### Set \n",
    "A set is an unordered collection with no duplicate elements."
   ]
  },
  {
   "cell_type": "code",
   "execution_count": 34,
   "metadata": {},
   "outputs": [
    {
     "name": "stdout",
     "output_type": "stream",
     "text": [
      "set(['a', 1, 2, 'c'])\n",
      "set(['c', 4, 5, 'd'])\n",
      "\n",
      "Check if item a is in set s1\n",
      "True\n",
      "\n",
      "return union of s1 and s2\n",
      "set(['a', 1, 2, 4, 5, 'c', 'd'])\n",
      "\n",
      "return intersection of s1 and s2\n",
      "set(['c'])\n",
      "\n"
     ]
    }
   ],
   "source": [
    "s1=set([1,2,'a','c'])\n",
    "s2=set([4,5,'d','c'])\n",
    "print s1\n",
    "print s2\n",
    "print\n",
    "\n",
    "print 'Check if item a is in set s1'\n",
    "print 'a' in s1\n",
    "print\n",
    "\n",
    "print 'return union of s1 and s2'\n",
    "print s1.union(s2)\n",
    "print\n",
    "\n",
    "print 'return intersection of s1 and s2'\n",
    "print s1.intersection(s2)\n",
    "print"
   ]
  },
  {
   "cell_type": "markdown",
   "metadata": {},
   "source": [
    "Now it's your turn to try out .add(), .remove(), .issubset() and .issuperset() built-in operations and report the results. "
   ]
  },
  {
   "cell_type": "code",
   "execution_count": 35,
   "metadata": {},
   "outputs": [
    {
     "name": "stdout",
     "output_type": "stream",
     "text": [
      "set(['a', 1, 2, 'c', 5])\n",
      "set(['a', 1, 2, 'c'])\n",
      "False\n",
      "False\n"
     ]
    }
   ],
   "source": [
    "#add\n",
    "s1.add(5)\n",
    "print (s1)\n",
    "s1.remove(5)\n",
    "print s1\n",
    "print s1.issubset(s2)\n",
    "print s1.issuperset(s2)"
   ]
  },
  {
   "cell_type": "markdown",
   "metadata": {},
   "source": [
    "#### Dictionary\n",
    "Unlike sequential data structures, which are indexed by a range of numbers, dictionaries are indexed by keys, which can be any type like strings and numbers.\n"
   ]
  },
  {
   "cell_type": "code",
   "execution_count": 36,
   "metadata": {},
   "outputs": [
    {
     "name": "stdout",
     "output_type": "stream",
     "text": [
      "{'fruit': ['apple', 'orange'], 'animal': ['cat', 'dog']}\n",
      "\n",
      "add food with value of soup\n",
      "{'food': ['soup'], 'fruit': ['apple', 'orange'], 'animal': ['cat', 'dog']}\n",
      "\n",
      "add value of banana into fruit\n",
      "{'food': ['soup'], 'fruit': ['apple', 'orange', 'banana'], 'animal': ['cat', 'dog']}\n"
     ]
    }
   ],
   "source": [
    "dic1 = {'fruit': ['apple', 'orange'], 'animal': ['cat', 'dog']}\n",
    "print dic1\n",
    "print\n",
    "\n",
    "print 'add food with value of soup'\n",
    "dic1['food']=['soup']\n",
    "print dic1\n",
    "print\n",
    "\n",
    "print 'add value of banana into fruit'\n",
    "dic1['fruit'].append('banana')\n",
    "print dic1\n"
   ]
  },
  {
   "cell_type": "markdown",
   "metadata": {},
   "source": [
    "Create a dictionary where the keys are integer numbers from 0 to 10 and the corresponding values are the square of the key value.  "
   ]
  },
  {
   "cell_type": "code",
   "execution_count": 37,
   "metadata": {},
   "outputs": [
    {
     "data": {
      "text/plain": [
       "{0: 0, 1: 1, 2: 4, 3: 9, 4: 16, 5: 25, 6: 36, 7: 49, 8: 64, 9: 81, 10: 100}"
      ]
     },
     "execution_count": 37,
     "metadata": {},
     "output_type": "execute_result"
    }
   ],
   "source": [
    "dict1={i:i*i for i in range(0,11)}\n",
    "dict1"
   ]
  },
  {
   "cell_type": "markdown",
   "metadata": {},
   "source": [
    "## Getting started with File Input & Output\n",
    "\n",
    "Python can easily handle reading and writing files. As far as Python is concerned, a file is just a string (often very large!) stored on your local file system, that you can read or write, gradually or all together.\n",
    "\n",
    "### Writing Files\n",
    "\n",
    "*open()* returns a file object, and is most commonly used with two arguments: *open(filename, mode)*."
   ]
  },
  {
   "cell_type": "code",
   "execution_count": 38,
   "metadata": {
    "collapsed": true
   },
   "outputs": [],
   "source": [
    "outFile = open('sample.txt', 'w')\n",
    "outFile.write('The first line\\nThe second line\\nThe third line\\n')\n",
    "outFile.close()"
   ]
  },
  {
   "cell_type": "markdown",
   "metadata": {},
   "source": [
    "The first line creates a file object, which links Python to your computer’s file system. The first parameter in the file constructor gives the file name, *sample.txt*. The second parameter indicates how you use the file. The 'w' is short for **w**rite. If the file already existed, the old contents are destroyed.\n",
    "\n",
    "And 'a' opens the file for **a**ppending; any data written to the file is automatically added to the end. 'r+' opens the file for both reading and writing.\n",
    "\n",
    "The *close* line is essential for Python to make sure everything is really written, and to relinquish control of the file."
   ]
  },
  {
   "cell_type": "markdown",
   "metadata": {},
   "source": [
    "### Methods of File Objects\n",
    "\n",
    "To read a file’s contents, call *f.read(size)*, which reads some quantity of data and returns it as a string. *size* is an optional numeric argument. When *size* is omitted or negative, the entire contents of the file will be read and returned."
   ]
  },
  {
   "cell_type": "code",
   "execution_count": 39,
   "metadata": {},
   "outputs": [
    {
     "data": {
      "text/plain": [
       "'The first line\\nThe second line\\nThe third line\\n'"
      ]
     },
     "execution_count": 39,
     "metadata": {},
     "output_type": "execute_result"
    }
   ],
   "source": [
    "outFile = open('sample.txt', 'r')\n",
    "outFile.read()"
   ]
  },
  {
   "cell_type": "markdown",
   "metadata": {},
   "source": [
    "For reading lines from a file, you can loop over the file object. This is memory efficient, fast, and leads to simple code:"
   ]
  },
  {
   "cell_type": "code",
   "execution_count": 40,
   "metadata": {},
   "outputs": [
    {
     "name": "stdout",
     "output_type": "stream",
     "text": [
      "The first line\n",
      "\n",
      "The second line\n",
      "\n",
      "The third line\n",
      "\n"
     ]
    }
   ],
   "source": [
    "outFile = open('sample.txt', 'r')\n",
    "for line in outFile:\n",
    "    print line"
   ]
  },
  {
   "cell_type": "markdown",
   "metadata": {},
   "source": [
    "It is good practice to use the *with* keyword when dealing with file objects. This has the advantage that the file is properly closed after its suite finishes, even if an exception is raised on the way. It is also much shorter than writing equivalent try-finally blocks:"
   ]
  },
  {
   "cell_type": "code",
   "execution_count": 41,
   "metadata": {},
   "outputs": [
    {
     "data": {
      "text/plain": [
       "'The first line\\nThe second line\\nThe third line\\n'"
      ]
     },
     "execution_count": 41,
     "metadata": {},
     "output_type": "execute_result"
    }
   ],
   "source": [
    "with open('sample.txt', 'r') as f:\n",
    "    outFile = f.read()\n",
    "outFile"
   ]
  },
  {
   "cell_type": "code",
   "execution_count": 42,
   "metadata": {},
   "outputs": [
    {
     "data": {
      "text/plain": [
       "True"
      ]
     },
     "execution_count": 42,
     "metadata": {},
     "output_type": "execute_result"
    }
   ],
   "source": [
    "f.closed"
   ]
  },
  {
   "cell_type": "code",
   "execution_count": 43,
   "metadata": {
    "collapsed": true
   },
   "outputs": [],
   "source": [
    "with open('sample.txt', 'a') as f:\n",
    "    f.write('The fourth line\\n')"
   ]
  },
  {
   "cell_type": "code",
   "execution_count": 44,
   "metadata": {},
   "outputs": [
    {
     "name": "stdout",
     "output_type": "stream",
     "text": [
      "['The first line\\n', 'The second line\\n', 'The third line\\n', 'The fourth line\\n']\n"
     ]
    }
   ],
   "source": [
    "with open('sample.txt', 'r') as f:\n",
    "    print f.readlines()  # readlines – reads the entire file and returns it as a list of strings"
   ]
  },
  {
   "cell_type": "markdown",
   "metadata": {},
   "source": [
    "### Open a Remote File via URL\n",
    "\n",
    "Python can easily access the content of a webpage via its URL, and print out locally line-by-line without saving a local copy of the file. "
   ]
  },
  {
   "cell_type": "code",
   "execution_count": 45,
   "metadata": {},
   "outputs": [
    {
     "name": "stdout",
     "output_type": "stream",
     "text": [
      "<html><head> <TITLE>CSCE 670 :: Information Storage and Retrieval :: Spring 2018</TITLE> </head>\n",
      "\n",
      "<body bgcolor=white text=black link=blue vlink=blue alink=blue>\n",
      "\n",
      "\n",
      "<h1> CSCE 670 :: Information Storage and Retrieval :: Spring 2018 </h1>\n",
      "\n",
      "<dt>Tues/Thurs 9:35-10:50am in ETB 2005</dt>\n",
      "\n",
      "<br/>\n",
      "<dt> Instructor: <a href=\"http://faculty.cse.tamu.edu/caverlee/\">James Caverlee</a>,\n",
      "HRBB 403 <dt> Office Hours: Wednesday 2-4pm\n",
      "<dt>\n",
      "Department of <a href=\"http://www.cse.tamu.edu\">Computer Science and\n",
      "Engineering</a> <dt> <a href=\"http://www.tamu.edu\">Texas A&amp;M\n",
      "University</a>\n",
      "<dt><br/>\n",
      "<dt> TA: Parisa Kaghazgaran, 408D\n",
      "<dt> Office Hours: Monday 2-4pm and Wednesday 9-11am\n",
      "\n",
      "<dt>\n",
      "\n",
      "<p><a href=\"schedule.html\">Course Schedule</a> :: <a href=\"project.html\">Project</a>\n",
      "\n",
      "<hr>\n",
      "<H3><A NAME = \"summary\">Course Summary</a></H3>\n",
      "<P>\n",
      "\n",
      "<P> In this course, we'll study the theory, design, and implementation\n",
      "of text-based and Web-based information retrieval systems, including algorithms and techniques at the core of modern search and recommender systems. By the end of\n",
      "the semester you will be able to:\n",
      "\n",
      "<ul>\n",
      "<li>Define and explain the key concepts\n",
      "and models relevant to information storage and retrieval, including\n",
      "efficient text indexing, boolean, vector space and probabilistic\n",
      "retrieval models, relevance feedback, document clustering and text\n",
      "categorization, Web search, including crawling, indexing, and link-based\n",
      "algorithms like PageRank.\n",
      "\n",
      "<li>Design, implement, and evaluate the core\n",
      "algorithms underlying a fully functional web search system, including the\n",
      "indexing, retrieval, and ranking components, as well as advanced\n",
      "algorithms like document clustering and text categorization.\n",
      "\n",
      "<li>Identify the\n",
      "salient features and apply recent research results in web search and recommender systems, including topics such as collaborative filtering,\n",
      "adversarial information retrieval, matrix factorization, and social\n",
      "information management.\n",
      "</ul>\n",
      "\n",
      "\n",
      "\n",
      "\n",
      "<hr>\n",
      "<H3><A NAME = \"comm\">Communication</a></H3>\n",
      "<P> All course communication will be via <a href=\"https://piazza.com/tamu/spring2018/csce670/home\">Piazza</a>.  We will post often to Piazza, so you should plan to check it often (every day).\n",
      "\n",
      "<hr>\n",
      "<H3><A NAME = \"prereq\">Prerequisites</a></H3>\n",
      "<P> I expect all students to have had some previous exposure to basic probability, statistics, algorithms, and data structures. You should be able to design and develop large programs and learn new software libraries on your own.\n",
      "\n",
      "\n",
      "<hr>\n",
      "<H3><A NAME = \"textbooks\">Textbooks</a></H3>\n",
      "<P> The primary textbook is IIR: <i><a href=\"http://nlp.stanford.edu/IR-book/information-retrieval-book.html\">Introduction to Information Retrieval</a></i>, Christopher D. Manning, Prabhakar Raghavan, and Hinrich Schutze, Cambridge University Press. 2008. Available at <a href=\"http://www.cambridge.org/us/catalogue/catalogue.asp?isbn=9780521865715\">Cambridge University Press</a>, at <a href=\"http://www.amazon.com/Introduction-Information-Retrieval-Christopher-Manning/dp/0521865719\">Amazon</a>, and other fine booksellers.\n",
      "\n",
      "<p> We may also read some selections from:\n",
      "<ul>\n",
      "<li> MMD: <i><a href=\"http://www.mmds.org\">Mining of Massive Datasets</a></i>, Jure Leskovec, Anand Rajarman, and Jeff Ullman.\n",
      "<li> DITP: <i><a href=\"http://lintool.github.io/MapReduceAlgorithms/ed1n.html\">Data-Intensive Text Processing with MapReduce</i></a>, by Lin and Dyer, 2010.\n",
      "<li> NCM: <i><a href=\"http://www.cs.cornell.edu/home/kleinber/networks%2Dbook/\">Networks, Crowds, and Markets: Reasoning About a Highly Connected World</i></a>, David Easley and Jon Kleinberg, Cambridge University Press. 2010.\n",
      "<li> As well as several papers and other resources provided on Piazza.\n",
      "</ul>\n",
      "\n",
      "\n",
      "<p> You may find some of these optional textbooks helpful, though none are required:\n",
      "<ul>\n",
      "<li> <i>Modern Information Retrieval</i>, by Baeza-Yates and Ribeiro-Neto.\n",
      "<li> <i>Managing Gigabytes</i>, by Witten, Moffat, and Bell.\n",
      "<li> <i>Foundations of Statistical Natural Language Processing</i>, by Manning and Schutze.\n",
      "<li> <i>Search Engines: Information Retrieval in Practice</i>, by Croft, Metzler, and Strohman.\n",
      "</ul>\n",
      "\n",
      "\n",
      "<p><b>It is critically important that you study the relevant course readings before class so that we can make the most of our limited class time together.</b> I treat our class meetings as opportunities to highlight significant aspects of the material, to answer questions, to engage in discussions about particular topics, and so on. We cannot cover all of the material in class, so it is up to you to stay on top of the readings and the assignments.\n",
      "\n",
      "<hr>\n",
      "<H3><A NAME = \"grading\">Grading</a></H3>\n",
      "<p> The grading scale is A: 90-100, B: 80-89, C: 70-79, D: 60-69, F: 0-59. The course grading policy is as follows:\n",
      "\n",
      "<p>\n",
      "<b>In-Class Quick Quizzes (10%)</b>. Keeping up with the readings and attendance in class are both important to your success in the course. Hence we will have 10 in-class quick quizzes (5 to 10 minutes each) spread across the semester. Of those 10 quizzes, we will count just 7, meaning that you can miss up to 3 with no negative repercussions. Note that we do not expect you to memorize the readings; we just expect that you have done them and given them a reasonable pass.\n",
      "\n",
      "<p>\n",
      "<b>Discussion Posts (5%)</b>. We expect you to participate in online discussions at <a href=\"https://piazza.com/tamu/spring2018/csce670\">Piazza</a>. Over the course of the semester, you should <b>post at least two</b> times; these could be on topics related to the course, help with someone's homework question, etc. Towards your participation grade, the final day to post to the discussion group is April 18. (Of course you are welcome to continue to post afterwards, but these posts will not count toward your participation grade.)\n",
      "\n",
      "<p>\n",
      "<b>Exams (40%)</b>. We will have two in-class exams, each worth 20% of your overall grade. Both exams are closed book, however, you may bring <b>two</b> standard 8.5\" by 11\" pieces of paper with any notes you deem appropriate or significant (front and back). No calculators, iPads, iPhones, Android phones/tablets, or abacuses are allowed.</i>\n",
      "\n",
      "<p>\n",
      "<b>Homework (20%)</b>. We will have several homework assignments. These will be a mix of programming assignments and problem sets. All programming assignments will be in Python; we make no expectations that you have been exposed to Python before, but we do expect you to come up to speed rapidly.\n",
      "\n",
      "<p>All homework assignments must be submitted by 11:59pm Central time on the due date. For the homework assignments, you may talk to any other class member or work in groups to discuss the problems <b>in a general way</b>. However, your actual detailed solution must be yours alone. If you do talk to other students, you must write on your assignment who it is that you discussed the problems with. Your submitted work must be written solely by you and not contain work directly copied from others.\n",
      "\n",
      "<p><i>Homework Collaboration Clarification</i>: To clarify, your homework is yours alone and you are expected to complete each homework independently. Your solution should be written by you without the direct aid or help of anyone else. However, we believe that \tcollaboration and team work are important for facilitating learning, so we encourage you \tto discuss problems and general problem approaches (but not actual solutions) with your \tclassmates. If you do have a chat with another student about a homework problem, you \tmust inform us by writing a note on your homework submission (e.g., Bob pointed me to \tthe relevant section for problem 3). The basic rule is that no student should explicitly share a solution with another student (and thereby circumvent the basic learning process), but it is okay to share general approaches, directions, and so on. If you feel like you have an issue that needs clarification, feel free to contact either me or the TA.\n",
      "\n",
      "<p><i>Homework Plagiarism Policy</i>: We will use the <a href=\"http://theory.stanford.edu/~aiken/moss/\">Stanford Moss</a> system to check homework submissions for plagiarism. Students found to have engaged in plagiarism will be punished severely, typically earning an automatic F in the course and being reported to the Aggie Honor System.\n",
      "\n",
      "<p><i>Homework Late Days</i>: For the homework assignments, you have a total of <b>5 late days</b> that you can use during the semester. However, a single assignment can be submitted <b>up to 3 days late</b> only, so we can post solutions in a timely fashion.\n",
      "For the purposes of the class, a late day is an indivisible 24-hour unit. Once you exhaust your 5 late days, we will not accept any late submissions.\n",
      "\n",
      "\n",
      "<p><b>Project (25%)</b>. For the project, you will work in teams of three or four on a problem of your choosing that is interesting, significant, and relevant to this course.\n",
      "\n",
      "<hr>\n",
      "\n",
      "<p><b>Regrade Policy</b>: If you feel that we have made an error in grading, you may resubmit the assignment for a regrade. You must include a brief written statement describing what portion has been graded in error. (Hey, if you are reading this, here's a hint: we will have our first quick quiz on Thursday of the first week of class -- the answer to the first question is \"The Beatles\"). Note that we reserve the right to examine the entire assignment, so there is a chance we may find errors in your assignment that we missed before.\n",
      "\n",
      "<hr>\n",
      "\n",
      "<H3><A NAME = \"ada\">Americans with Disabilities Act (ADA) Policy\n",
      "Statement</a></H3> The Americans with Disabilities Act (ADA) is a federal anti-discrimination statute that provides comprehensive civil rights protection for persons with disabilities. Among other things, this legislation requires that all students with disabilities be guaranteed a learning environment that provides for reasonable accommodation of their disabilities. If you believe you have a disability requiring an accommodation, please contact Disability Services, currently located in the Disability Services building at the Student Services at White Creek complex on west campus or call 979-845-1637. For additional information, visit <a href=\"http://disability.tamu.edu\">http://disability.tamu.edu</a>.\n",
      "\n",
      "<H3><A NAME = \"honor\">Academic Integrity Statements</a></H3>\n",
      "\n",
      "AGGIE HONOR CODE:  ''An Aggie does not lie, cheat, or steal or tolerate\n",
      "those who do.'' Upon accepting admission to Texas A&M University, a\n",
      "student immediately assumes a commitment to uphold the Honor Code, to\n",
      "accept responsibility for learning, and to follow the philosophy and\n",
      "rules of the Honor System. Students will be required to state their\n",
      "commitment on examinations, research papers, and other academic work.\n",
      "Ignorance of the rules does not exclude any member of the TAMU community\n",
      "from the requirements or the processes of the Honor System. For\n",
      "additional information please visit: <a\n",
      "href=\"http://aggiehonor.tamu.edu\">http://aggiehonor.tamu.edu</a>\n",
      "\n",
      "\n",
      "<P> <BR> <BR>\n"
     ]
    }
   ],
   "source": [
    "import urllib2  # the lib that handles the url stuff\n",
    "\n",
    "url = \"http://courses.cse.tamu.edu/caverlee/csce670/\"\n",
    "\n",
    "#open the url\n",
    "data=urllib2.urlopen(url)\n",
    "\n",
    "# now print out each line\n",
    "for line in data:\n",
    "    print line.rstrip()"
   ]
  },
  {
   "cell_type": "markdown",
   "metadata": {},
   "source": [
    "## Counting Word Frequency\n",
    "\n",
    "One of the most fundamental tasks in information retrieval is to count the frequency of each word in a document.\n",
    "\n",
    "In the following example, we start with a string and split it into a list. We then create an (initially empty) list called *wordfreq*, go through each word in the *wordlist*, and count the number of times that word appears in the whole list. We then add each word’s count to our wordfreq list. Using the *zip* operation, we are able to match the first word of the word list with the first number in the frequency list, the second word and second frequency, and so on. We end up with a list of word and frequency pairs. The *str* function converts any object to a string so that it can be printed."
   ]
  },
  {
   "cell_type": "code",
   "execution_count": 46,
   "metadata": {},
   "outputs": [
    {
     "name": "stdout",
     "output_type": "stream",
     "text": [
      "String\n",
      "it was the best of times it was the worst of times it was the age of wisdom it was the age of foolishness\n",
      "\n",
      "List\n",
      "['it', 'was', 'the', 'best', 'of', 'times', 'it', 'was', 'the', 'worst', 'of', 'times', 'it', 'was', 'the', 'age', 'of', 'wisdom', 'it', 'was', 'the', 'age', 'of', 'foolishness']\n",
      "\n",
      "Frequencies\n",
      "[4, 4, 4, 1, 4, 2, 4, 4, 4, 1, 4, 2, 4, 4, 4, 2, 4, 1, 4, 4, 4, 2, 4, 1]\n",
      "\n",
      "Pairs\n",
      "{'of': 4, 'age': 2, 'it': 4, 'foolishness': 1, 'times': 2, 'worst': 1, 'the': 4, 'wisdom': 1, 'was': 4, 'best': 1}\n"
     ]
    }
   ],
   "source": [
    "wordstring = 'it was the best of times it was the worst of times '\n",
    "wordstring += 'it was the age of wisdom it was the age of foolishness'\n",
    "\n",
    "wordlist = wordstring.split()\n",
    "\n",
    "wordfreq = []\n",
    "for w in wordlist:\n",
    "    wordfreq.append(wordlist.count(w))\n",
    "\n",
    "print(\"String\\n\" + wordstring +\"\\n\")\n",
    "print(\"List\\n\" + str(wordlist) + \"\\n\")\n",
    "print(\"Frequencies\\n\" + str(wordfreq) + \"\\n\")\n",
    "print(\"Pairs\\n\" + str(dict(zip(wordlist, wordfreq))))"
   ]
  },
  {
   "cell_type": "markdown",
   "metadata": {},
   "source": [
    "Now, your job is to open up the url we mentioned a few cells above. Then output the word-frequency pairs in that url, sorted in order of descending frequency. In the case of ours Dickens example here, the output would look something like: [('of', 4), ('it', 4), ('the', 4), ('was', 4), ('age', 2), ('times', 2), ('foolishness', 1), ('worst', 1), ('wisdom', 1), ('best', 1)].\n",
    "\n",
    "Your job is to output a the word-frequency pairs for the url."
   ]
  },
  {
   "cell_type": "code",
   "execution_count": 47,
   "metadata": {
    "collapsed": true
   },
   "outputs": [],
   "source": [
    "from bs4 import BeautifulSoup\n",
    "import re\n",
    "import operator\n",
    "page_content=urllib2.urlopen(url).read()\n",
    "soup = BeautifulSoup(page_content,'lxml')\n",
    "prk=str(soup.get_text().encode('utf-8'))\n",
    "rem=re.compile('[^A-Za-z0-9#]+')\n",
    "final=rem.sub(' ', prk)\n",
    "final_lower=final.lower()"
   ]
  },
  {
   "cell_type": "code",
   "execution_count": 48,
   "metadata": {},
   "outputs": [
    {
     "name": "stdout",
     "output_type": "stream",
     "text": [
      "[('the', 61), ('and', 51), ('to', 47), ('you', 38), ('of', 29), ('a', 26), ('we', 24), ('in', 23), ('that', 18), ('will', 16), ('is', 15), ('your', 15), ('homework', 14), ('be', 14), ('have', 13), ('for', 13), ('on', 13), ('with', 13), ('course', 12), ('information', 11), ('class', 11), ('by', 11), ('or', 10), ('retrieval', 10), ('so', 8), ('are', 8), ('assignments', 7), ('not', 7), ('as', 7), ('at', 7), ('all', 6), ('must', 6), ('work', 6), ('may', 6), ('late', 6), ('if', 6), ('an', 6), ('other', 6), ('search', 5), ('honor', 5), ('can', 5), ('do', 5), ('including', 5), ('university', 5), ('expect', 5), ('system', 5), ('10', 5), ('algorithms', 5), ('text', 5), ('should', 5), ('it', 5), ('assignment', 5), ('student', 5), ('post', 5), ('disabilities', 5), ('up', 5), ('problem', 5), ('5', 5), ('students', 5), ('disability', 4), ('semester', 4), ('relevant', 4), ('this', 4), ('policy', 4), ('days', 4), ('any', 4), ('however', 4), ('learning', 4), ('readings', 4), ('these', 4), ('piazza', 4), ('web', 4), ('grading', 4), ('but', 4), ('no', 4), ('quick', 3), ('design', 3), ('exams', 3), ('from', 3), ('plagiarism', 3), ('cambridge', 3), ('before', 3), ('feel', 3), ('indexing', 3), ('day', 3), ('each', 3), ('our', 3), ('first', 3), ('grade', 3), ('submitted', 3), ('project', 3), ('topics', 3), ('note', 3), ('significant', 3), ('services', 3), ('based', 3), ('written', 3), ('quizzes', 3), ('3', 3), ('aggie', 3), ('basic', 3), ('systems', 3), ('solution', 3), ('press', 3), ('like', 3), ('some', 3), ('about', 3), ('two', 3), ('tamu', 3), ('general', 3), ('storage', 3), ('problems', 3), ('important', 3), ('code', 2), ('regrade', 2), ('clarification', 2), ('ta', 2), ('posts', 2), ('wednesday', 2), ('core', 2), ('edu', 2), ('http', 2), ('hours', 2), ('study', 2), ('use', 2), ('visit', 2), ('me', 2), ('f', 2), ('share', 2), ('accept', 2), ('discussion', 2), ('actual', 2), ('answer', 2), ('data', 2), ('talk', 2), ('office', 2), ('csce', 2), ('2018', 2), ('2010', 2), ('texas', 2), ('them', 2), ('python', 2), ('commitment', 2), ('document', 2), ('reasonable', 2), ('another', 2), ('4pm', 2), ('research', 2), ('approaches', 2), ('categorization', 2), ('accommodation', 2), ('programming', 2), ('their', 2), ('2', 2), ('statement', 2), ('believe', 2), ('11', 2), ('modern', 2), ('recommender', 2), ('able', 2), ('contact', 2), ('collaboration', 2), ('who', 2), ('solutions', 2), ('find', 2), ('help', 2), ('textbooks', 2), ('manning', 2), ('discussions', 2), ('please', 2), ('20', 2), ('both', 2), ('s', 2), ('alone', 2), ('been', 2), ('those', 2), ('error', 2), ('americans', 2), ('make', 2), ('member', 2), ('rules', 2), ('9', 2), ('several', 2), ('material', 2), ('i', 2), ('well', 2), ('academic', 2), ('yours', 2), ('just', 2), ('discuss', 2), ('ada', 2), ('submissions', 2), ('670', 2), ('d', 2), ('often', 2), ('spring', 2), ('models', 2), ('does', 2), ('provides', 2), ('participation', 2), ('processing', 2), ('act', 2), ('communication', 2), ('clustering', 2), ('additional', 2), ('question', 2), ('count', 2), ('schutze', 2), ('check', 2), ('papers', 2), ('m', 2), ('required', 2), ('time', 2), ('limited', 1), ('results', 1), ('four', 1), ('anand', 1), ('foundations', 1), ('follow', 1), ('integrity', 1), ('reasoning', 1), ('uphold', 1), ('opportunities', 1), ('intensive', 1), ('include', 1), ('worth', 1), ('resources', 1), ('keeping', 1), ('ullman', 1), ('witten', 1), ('every', 1), ('timely', 1), ('severely', 1), ('made', 1), ('notes', 1), ('rights', 1), ('large', 1), ('vector', 1), ('team', 1), ('booksellers', 1), ('facilitating', 1), ('phones', 1), ('kaghazgaran', 1), ('direct', 1), ('pass', 1), ('rajarman', 1), ('errors', 1), ('croft', 1), ('section', 1), ('brief', 1), ('networks', 1), ('new', 1), ('discrimination', 1), ('concepts', 1), ('here', 1), ('reported', 1), ('protection', 1), ('groups', 1), ('others', 1), ('jure', 1), ('100', 1), ('directions', 1), ('engage', 1), ('indivisible', 1), ('35', 1), ('requirements', 1), ('social', 1), ('calculators', 1), ('implement', 1), ('examinations', 1), ('via', 1), ('requiring', 1), ('highly', 1), ('boolean', 1), ('thursday', 1), ('apply', 1), ('total', 1), ('circumvent', 1), ('unit', 1), ('environment', 1), ('attendance', 1), ('0', 1), ('negative', 1), ('resubmit', 1), ('call', 1), ('markets', 1), ('iir', 1), ('845', 1), ('purposes', 1), ('particular', 1), ('90', 1), ('none', 1), ('g', 1), ('hour', 1), ('science', 1), ('abacuses', 1), ('learn', 1), ('raghavan', 1), ('process', 1), ('moffat', 1), ('pieces', 1), ('allowed', 1), ('exclude', 1), ('baeza', 1), ('times', 1), ('needs', 1), ('end', 1), ('memorize', 1), ('write', 1), ('automatic', 1), ('responsibility', 1), ('okay', 1), ('philosophy', 1), ('date', 1), ('such', 1), ('steal', 1), ('natural', 1), ('leskovec', 1), ('inform', 1), ('crawling', 1), ('neto', 1), ('feedback', 1), ('over', 1), ('statistical', 1), ('24', 1), ('25', 1), ('group', 1), ('located', 1), ('interesting', 1), ('ll', 1), ('expectations', 1), ('writing', 1), ('403', 1), ('hinrich', 1), ('someone', 1), ('thereby', 1), ('entire', 1), ('repercussions', 1), ('practice', 1), ('james', 1), ('tues', 1), ('found', 1), ('related', 1), ('easley', 1), ('89', 1), ('80', 1), ('teams', 1), ('matrix', 1), ('space', 1), ('encourage', 1), ('7', 1), ('comprehensive', 1), ('issue', 1), ('theory', 1), ('state', 1), ('free', 1), ('standard', 1), ('clarify', 1), ('mmd', 1), ('language', 1), ('selections', 1), ('rule', 1), ('could', 1), ('david', 1), ('massive', 1), ('hence', 1), ('features', 1), ('probability', 1), ('legislation', 1), ('primary', 1), ('50am', 1), ('done', 1), ('979', 1), ('directly', 1), ('miss', 1), ('given', 1), ('salient', 1), ('introduction', 1), ('top', 1), ('least', 1), ('caverlee', 1), ('anyone', 1), ('white', 1), ('ribeiro', 1), ('structures', 1), ('final', 1), ('mining', 1), ('gigabytes', 1), ('helpful', 1), ('ncm', 1), ('ipads', 1), ('b', 1), ('critically', 1), ('18', 1), ('programs', 1), ('prerequisites', 1), ('kleinberg', 1), ('toward', 1), ('solely', 1), ('fashion', 1), ('aggiehonor', 1), ('lie', 1), ('efficient', 1), ('lin', 1), ('also', 1), ('online', 1), ('towards', 1), ('though', 1), ('what', 1), ('most', 1), ('hrbb', 1), ('connected', 1), ('plan', 1), ('70', 1), ('accepting', 1), ('probabilistic', 1), ('79', 1), ('statute', 1), ('cover', 1), ('missed', 1), ('typically', 1), ('reserve', 1), ('cheat', 1), ('meetings', 1), ('bring', 1), ('participate', 1), ('fine', 1), ('implementation', 1), ('explain', 1), ('only', 1), ('explicitly', 1), ('8', 1), ('pointed', 1), ('ranking', 1), ('beatles', 1), ('overall', 1), ('amazon', 1), ('cannot', 1), ('christopher', 1), ('during', 1), ('processes', 1), ('factorization', 1), ('summary', 1), ('paper', 1), ('contain', 1), ('tablets', 1), ('11am', 1), ('computer', 1), ('techniques', 1), ('managing', 1), ('currently', 1), ('thurs', 1), ('libraries', 1), ('closed', 1), ('reading', 1), ('across', 1), ('available', 1), ('rapidly', 1), ('key', 1), ('optional', 1), ('jon', 1), ('c', 1), ('hint', 1), ('etb', 1), ('etc', 1), ('among', 1), ('filtering', 1), ('afterwards', 1), ('jeff', 1), ('guaranteed', 1), ('community', 1), ('60', 1), ('anti', 1), ('69', 1), ('earning', 1), ('engines', 1), ('come', 1), ('due', 1), ('quiz', 1), ('punished', 1), ('treat', 1), ('expected', 1), ('copied', 1), ('instructor', 1), ('crowds', 1), ('tolerate', 1), ('engineering', 1), ('aid', 1), ('engaged', 1), ('examine', 1), ('parisa', 1), ('develop', 1), ('april', 1), ('things', 1), ('submission', 1), ('campus', 1), ('complex', 1), ('android', 1), ('week', 1), ('exhaust', 1), ('classmates', 1), ('upon', 1), ('persons', 1), ('408d', 1), ('bob', 1), ('single', 1), ('recent', 1), ('yates', 1), ('without', 1), ('components', 1), ('sets', 1), ('graded', 1), ('being', 1), ('strohman', 1), ('front', 1), ('underlying', 1), ('identify', 1), ('questions', 1), ('immediately', 1), ('speed', 1), ('previous', 1), ('prabhakar', 1), ('mix', 1), ('admission', 1), ('bell', 1), ('had', 1), ('iphones', 1), ('ignorance', 1), ('spread', 1), ('relevance', 1), ('has', 1), ('aspects', 1), ('ditp', 1), ('read', 1), ('evaluate', 1), ('mapreduce', 1), ('world', 1), ('advanced', 1), ('59', 1), ('success', 1), ('follows', 1), ('continue', 1), ('either', 1), ('fully', 1), ('right', 1), ('exposed', 1), ('back', 1), ('choosing', 1), ('provided', 1), ('scale', 1), ('describing', 1), ('monday', 1), ('59pm', 1), ('three', 1), ('welcome', 1), ('schedule', 1), ('central', 1), ('discussed', 1), ('chance', 1), ('book', 1), ('software', 1), ('own', 1), ('statements', 1), ('moss', 1), ('civil', 1), ('functional', 1), ('appropriate', 1), ('federal', 1), ('creek', 1), ('statistics', 1), ('1637', 1), ('there', 1), ('adversarial', 1), ('way', 1), ('assumes', 1), ('complete', 1), ('pagerank', 1), ('link', 1), ('datasets', 1), ('stanford', 1), ('us', 1), ('west', 1), ('highlight', 1), ('define', 1), ('minutes', 1), ('detailed', 1), ('metzler', 1), ('textbook', 1), ('deem', 1), ('chat', 1), ('40', 1), ('department', 1), ('hey', 1), ('collaborative', 1), ('2005', 1), ('stay', 1), ('meaning', 1), ('else', 1), ('exposure', 1), ('building', 1), ('independently', 1), ('e', 1), ('together', 1), ('portion', 1), ('dyer', 1), ('management', 1), ('2008', 1), ('requires', 1), ('once', 1)]\n"
     ]
    }
   ],
   "source": [
    "def get_pairs(wordstring):\n",
    "    wordlist = wordstring.split()\n",
    "    wordfreq = []\n",
    "    for w in wordlist:\n",
    "        wordfreq.append(wordlist.count(w))\n",
    "    d=dict(zip(wordlist, wordfreq))    \n",
    "    return (sorted(d.items(), key=operator.itemgetter(1),reverse=True))\n",
    "\n",
    "result=get_pairs(final_lower)\n",
    "print result"
   ]
  },
  {
   "cell_type": "code",
   "execution_count": null,
   "metadata": {
    "collapsed": true
   },
   "outputs": [],
   "source": []
  },
  {
   "cell_type": "code",
   "execution_count": null,
   "metadata": {
    "collapsed": true
   },
   "outputs": [],
   "source": []
  },
  {
   "cell_type": "code",
   "execution_count": null,
   "metadata": {
    "collapsed": true
   },
   "outputs": [],
   "source": [
    "\n",
    "\n"
   ]
  },
  {
   "cell_type": "code",
   "execution_count": null,
   "metadata": {
    "collapsed": true
   },
   "outputs": [],
   "source": []
  }
 ],
 "metadata": {
  "anaconda-cloud": {},
  "kernelspec": {
   "display_name": "Python 2",
   "language": "python",
   "name": "python2"
  },
  "language_info": {
   "codemirror_mode": {
    "name": "ipython",
    "version": 2
   },
   "file_extension": ".py",
   "mimetype": "text/x-python",
   "name": "python",
   "nbconvert_exporter": "python",
   "pygments_lexer": "ipython2",
   "version": "2.7.14"
  }
 },
 "nbformat": 4,
 "nbformat_minor": 1
}
